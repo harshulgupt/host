{
 "cells": [
  {
   "cell_type": "code",
   "execution_count": 1,
   "metadata": {},
   "outputs": [],
   "source": [
    "import os\n",
    "import requests\n",
    "import base64\n",
    "import json\n",
    "from jinja2 import Environment, FileSystemLoader\n",
    "\n",
    "def page_link(a):\n",
    "    if ' ' in a:\n",
    "        return a.replace(\" \", \"_\")\n",
    "    else: \n",
    "        return a\n",
    "\n",
    "# Set environment variables\n",
    "token = os.environ['LAL']\n",
    "url_base = \"https://api.github.com/repos/harshulgupt/json_pvt/contents/jsons/\"\n",
    "headers = {\n",
    "    \"Authorization\": \"Token \" + token\n",
    "}\n",
    "\n",
    "# Fetch and decode JSON files\n",
    "json_files = [\"general\", \"research\"]\n",
    "data = {}\n",
    "for json_file in json_files:\n",
    "    response = requests.get(url_base + json_file + \".json\", headers=headers)\n",
    "    content = response.json()[\"content\"]\n",
    "    decoded = base64.b64decode(content).decode()\n",
    "    data[json_file] = json.loads(decoded)\n",
    "\n",
    "# Create instance of Environment and render templates\n",
    "environment = Environment(loader=FileSystemLoader('templates/'))\n",
    "environment.globals['page_link'] = page_link\n",
    "template_no_twitter = environment.get_template('research_page_no_twitter.html.j2')\n",
    "template_twitter = environment.get_template('research_page_twitter.html.j2')\n",
    "\n",
    "# Render content and write to file\n",
    "for i,project in enumerate(data[\"research\"]):\n",
    "    filename = f\"sub_research/{ page_link(data['general']['Research'][i]) }.html\"\n",
    "    if project[\"twitter\"] == \"None\":\n",
    "        content = template_no_twitter.render(general=data[\"general\"], research=project)\n",
    "    else:\n",
    "        content = template_twitter.render(general=data[\"general\"], research=project)\n",
    "    with open(filename, mode=\"w\", encoding=\"utf-8\") as message:\n",
    "        message.write(content)\n"
   ]
  }
 ],
 "metadata": {
  "kernelspec": {
   "display_name": "Python 3",
   "language": "python",
   "name": "python3"
  },
  "language_info": {
   "codemirror_mode": {
    "name": "ipython",
    "version": 3
   },
   "file_extension": ".py",
   "mimetype": "text/x-python",
   "name": "python",
   "nbconvert_exporter": "python",
   "pygments_lexer": "ipython3",
   "version": "3.8.2"
  },
  "vscode": {
   "interpreter": {
    "hash": "31f2aee4e71d21fbe5cf8b01ff0e069b9275f58929596ceb00d14d90e3e16cd6"
   }
  }
 },
 "nbformat": 4,
 "nbformat_minor": 2
}
