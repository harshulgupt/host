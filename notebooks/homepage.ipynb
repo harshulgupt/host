{
 "cells": [
  {
   "cell_type": "code",
   "execution_count": null,
   "metadata": {},
   "outputs": [],
   "source": [
    "#Importing classes from the Jinja2 library to load and render templates.\n",
    "from jinja2 import Environment, FileSystemLoader\n",
    "import json\n",
    "import requests\n",
    "\n",
    "def page_link(a):\n",
    "    if ' ' in a:\n",
    "        return a.replace(' ', '_')\n",
    "    else:\n",
    "        return a\n",
    "\n",
    "# Creating a custom class that will use the GitHub API to access the templates.\n",
    "class GitHubLoader:\n",
    "    def __init__(self, repo, branch='master', token=None):\n",
    "        self.repo = repo\n",
    "        self.branch = branch\n",
    "        self.token = token\n",
    "        self.base_url = f'https://raw.githubusercontent.com/{repo}/{branch}/'\n",
    "\n",
    "    def get_source(self, environment, template):\n",
    "        path = f'templates/{template}'\n",
    "        url = self.base_url + path\n",
    "        headers = {}\n",
    "        if self.token:\n",
    "            headers['Authorization'] = f'token {self.token}'\n",
    "        response = requests.get(url, headers=headers)\n",
    "        if response.status_code == 404:\n",
    "            raise TemplateNotFound(template)\n",
    "        elif response.status_code != 200:\n",
    "            raise Exception(f\"Failed to retrieve {url}\")\n",
    "        else:\n",
    "            return response.text\n",
    "\n",
    "# Creating an instance of the Environment class that uses the custom GitHubLoader.\n",
    "environment = Environment(loader=GitHubLoader('harshulgupt/json_repo', token=PAT))\n",
    "environment.globals['page_link'] = page_link\n",
    "template = environment.get_template('homepage.html.j2')\n",
    "\n",
    "json_files = [\"General\", \"homepage\"]\n",
    "data = {}\n",
    "for json_file in json_files:\n",
    "    response = requests.get(\n",
    "        f\"https://api.github.com/repos/harshulgupt/json_repo/contents/jsons/{json_file}.json\",\n",
    "        headers={\n",
    "            \"Authorization\": f\"Token {PAT}\"\n",
    "        }\n",
    "    )\n",
    "\n",
    "    if response.status_code == 200:\n",
    "        content = response.json()[\"content\"]\n",
    "        decoded_content = content.decode(\"utf-8\")\n",
    "        data[json_file] = json.loads(decoded_content)\n",
    "content = template.render(General=data[\"General\"], Homepage=data[\"homepage\"])\n",
    "\n",
    "# Open in write mode\n",
    "with open('../index.html', mode='w', encoding='utf-8') as Homepage:\n",
    "    Homepage.write(content)\n"
   ]
  }
 ],
 "metadata": {
  "kernelspec": {
   "display_name": "Python 3",
   "language": "python",
   "name": "python3"
  },
  "language_info": {
   "codemirror_mode": {
    "name": "ipython",
    "version": 3
   },
   "file_extension": ".py",
   "mimetype": "text/x-python",
   "name": "python",
   "nbconvert_exporter": "python",
   "pygments_lexer": "ipython3",
   "version": "3.8.2 (default, Apr  8 2021, 23:19:18) \n[Clang 12.0.5 (clang-1205.0.22.9)]"
  },
  "vscode": {
   "interpreter": {
    "hash": "31f2aee4e71d21fbe5cf8b01ff0e069b9275f58929596ceb00d14d90e3e16cd6"
   }
  }
 },
 "nbformat": 4,
 "nbformat_minor": 2
}
