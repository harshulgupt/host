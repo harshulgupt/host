{
 "cells": [
  {
   "cell_type": "code",
   "execution_count": null,
   "metadata": {},
   "outputs": [],
   "source": [
    "import os\n",
    "import requests\n",
    "import json\n",
    "import base64\n",
    "from jinja2 import Environment, FileSystemLoader\n",
    "\n",
    "def page_link(a):\n",
    "    if ' ' in a:\n",
    "        return a.replace(' ', '_')\n",
    "    else:\n",
    "        return a\n",
    "\n",
    "# Use the GitHub API to retrieve the contents of the JSON files and the template directory\n",
    "def get_contents(path):\n",
    "    url = f\"https://api.github.com/repos/harshulgupt/json_pvt\"\n",
    "    response = requests.get(url, headers={\n",
    "        \"Authorization\": f\"Token {os.environ['PAT']}\"\n",
    "    })\n",
    "    if response.status_code == 200:\n",
    "        contents = response.json()\n",
    "        return {content[\"name\"]: base64.b64decode(content[\"content\"]).decode(\"utf-8\") for content in contents}\n",
    "\n",
    "json_contents = get_contents(\"jsons\")\n",
    "template_contents = get_contents(\"templates\")\n",
    "\n",
    "data = {}\n",
    "for json_file in json_files:\n",
    "    data[json_file] = json.loads(json_contents[f\"{json_file}.json\"])\n",
    "\n",
    "# Load the templates from the retrieved contents\n",
    "environment = Environment()\n",
    "environment.loader = lambda name: (\n",
    "    template_contents[f\"{name}\"].strip(),\n",
    "    name,\n",
    "    lambda: False\n",
    ")\n",
    "environment.globals['page_link'] = page_link\n",
    "template = environment.get_template('contact.html.j2')\n",
    "\n",
    "content = template.render(General=data[\"General\"], contact=data[\"contact\"])\n",
    "\n",
    "#open in write mode\n",
    "with open('Contact.html', mode='w', encoding='utf-8') as contact:\n",
    "    contact.write(content)\n"
   ]
  }
 ],
 "metadata": {
  "language_info": {
   "name": "python"
  },
  "orig_nbformat": 4
 },
 "nbformat": 4,
 "nbformat_minor": 2
}
