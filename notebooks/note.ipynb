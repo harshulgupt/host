{
 "cells": [
  {
   "cell_type": "code",
   "execution_count": null,
   "metadata": {},
   "outputs": [],
   "source": [
    "import os\n",
    "import requests\n",
    "import base64\n",
    "import json\n",
    "from jinja2 import Environment, FileSystemLoader\n",
    "\n",
    "def page_link(a):\n",
    "    if ' ' in a:\n",
    "        return a.replace(' ', '_')\n",
    "    else:\n",
    "        return a\n",
    "\n",
    "# Set environment variables\n",
    "token = os.environ['LAL']\n",
    "url_base = \"https://api.github.com/repos/harshulgupt/json_pvt/contents/jsons/\"\n",
    "headers = {\n",
    "    \"Authorization\": \"Token \" + token\n",
    "}\n",
    "\n",
    "# Fetch and decode JSON files\n",
    "json_files = [\"general\", \"homepage\"]\n",
    "data = {}\n",
    "for json_file in json_files:\n",
    "    response = requests.get(url_base + json_file + \".json\", headers=headers)\n",
    "    content = response.json()[\"content\"]\n",
    "    decoded = base64.b64decode(content).decode()\n",
    "    data[json_file] = json.loads(decoded)\n",
    "\n",
    "# Create instance of Environment and render template\n",
    "environment = Environment(loader=FileSystemLoader('templates/'))\n",
    "environment.globals['page_link'] = page_link\n",
    "template = environment.get_template('homepage.html.j2')\n",
    "content = template.render(General=data[\"general\"], Homepage=data[\"homepage\"])\n",
    "\n",
    "# Write rendered content to file\n",
    "with open('index.html', mode='w', encoding='utf-8') as Homepage:\n",
    "    Homepage.write(content)\n"
   ]
  },
  {
   "cell_type": "code",
   "execution_count": null,
   "metadata": {},
   "outputs": [],
   "source": [
    "\"\"\"\n",
    "#Importing classes from the Jinja2 library to load and render templates.\n",
    "import os\n",
    "import requests\n",
    "import json\n",
    "from jinja2 import Environment, FileSystemLoader\n",
    "\n",
    "def page_link(a):\n",
    "    if ' ' in a:\n",
    "        return a.replace(' ', '_')\n",
    "    else:\n",
    "        return a\n",
    "\n",
    "token = os.environ['LAL']\n",
    "\n",
    "url = \"https://api.github.com/repos/harshulgupt/json_pvt/contents/\"\n",
    "headers = {\n",
    "    \"Authorization\": \"Token \" + token\n",
    "}\n",
    "\n",
    "# Download the data for both JSON files\n",
    "json_files = [\"jsons/General.json\", \"jsons/homepage.json\"]\n",
    "data = {}\n",
    "for json_file in json_files:\n",
    "    response = requests.get(f\"{url}{json_file}\", headers=headers)\n",
    "    content = response.json()[\"content\"]\n",
    "    decoded_content = base64.b64decode(content).decode()\n",
    "    data[json_file.split(\"/\")[-1].split(\".\")[0]] = json.loads(decoded_content)\n",
    "\n",
    "#Creating an instance of the Environment class that looks for templates. Page_link is set to the global variable so that it can be accessed by all templates\n",
    "environment = Environment(loader=FileSystemLoader('templates/'))\n",
    "environment.globals['page_link'] = page_link\n",
    "# template gets the template from the environment.Content renders the template with the data from the general and homepage variables.\n",
    "template = environment.get_template('homepage.html.j2')\n",
    "content = template.render(General=data[\"General\"], Homepage=data[\"homepage\"])\n",
    "#open in write mode\n",
    "with open('index.html', mode='w', encoding='utf-8') as Homepage:\n",
    "    Homepage.write(content)\n",
    "\"\"\""
   ]
  }
 ],
 "metadata": {
  "kernelspec": {
   "display_name": "Python 3",
   "language": "python",
   "name": "python3"
  },
  "language_info": {
   "name": "python",
   "version": "3.8.2"
  },
  "orig_nbformat": 4,
  "vscode": {
   "interpreter": {
    "hash": "31f2aee4e71d21fbe5cf8b01ff0e069b9275f58929596ceb00d14d90e3e16cd6"
   }
  }
 },
 "nbformat": 4,
 "nbformat_minor": 2
}
