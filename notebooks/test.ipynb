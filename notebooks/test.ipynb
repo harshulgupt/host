{
 "cells": [
  {
   "cell_type": "code",
   "execution_count": 1,
   "metadata": {},
   "outputs": [],
   "source": [
    "\"\"\"import os \n",
    "key = os.environ.get('LAL')\n",
    "\n",
    "with open(\"output.txt\", \"w\") as f:\n",
    "    f.write(f\"Value of env variable key=: {key}\\n\")\"\"\"\n",
    "\n"
   ]
  },
  {
   "cell_type": "code",
   "execution_count": null,
   "metadata": {},
   "outputs": [],
   "source": [
    "\"\"\"import os\n",
    "import requests\n",
    "\n",
    "# retrieve token from environment variable\n",
    "token = os.getenv(\"PAT\")\n",
    "\n",
    "# fetch data from private repository using GitHub API\n",
    "url = \"https://api.github.com/repos/<user>/json_pvt/data.txt\"\n",
    "headers = {\n",
    "    \"Authorization\": \"Token \" + token\n",
    "}\n",
    "response = requests.get(url, headers=headers)\n",
    "if response.status_code == 200:\n",
    "    data = response.json()[\"content\"]\n",
    "else:\n",
    "    raise Exception(\"Could not fetch data from private repository\")\n",
    "\n",
    "# write data to output.txt file\n",
    "with open(\"output.txt\", \"w\") as f:\n",
    "    f.write(data)\n",
    "\"\"\""
   ]
  },
  {
   "cell_type": "code",
   "execution_count": 1,
   "metadata": {},
   "outputs": [],
   "source": [
    "\"\"\"# read data from data.txt file\n",
    "with open(\"data.txt\", \"r\") as f:\n",
    "    data = f.read()\n",
    "\n",
    "# write data to output.txt file\n",
    "with open(\"output.txt\", \"w\") as f:\n",
    "    f.write(data)\n",
    "\"\"\""
   ]
  },
  {
   "cell_type": "code",
   "execution_count": 5,
   "metadata": {},
   "outputs": [],
   "source": [
    "import os\n",
    "\n",
    "secret_token = os.environ.get('HOME')\n",
    "\n",
    "with open(\"output.txt\", \"w\") as f:\n",
    "    if secret_token:\n",
    "        f.write(secret_token)\n",
    "    else:\n",
    "        f.write(\"Secret token not found.\")\n"
   ]
  }
 ],
 "metadata": {
  "kernelspec": {
   "display_name": "Python 3",
   "language": "python",
   "name": "python3"
  },
  "language_info": {
   "codemirror_mode": {
    "name": "ipython",
    "version": 3
   },
   "file_extension": ".py",
   "mimetype": "text/x-python",
   "name": "python",
   "nbconvert_exporter": "python",
   "pygments_lexer": "ipython3",
   "version": "3.8.2"
  },
  "orig_nbformat": 4,
  "vscode": {
   "interpreter": {
    "hash": "31f2aee4e71d21fbe5cf8b01ff0e069b9275f58929596ceb00d14d90e3e16cd6"
   }
  }
 },
 "nbformat": 4,
 "nbformat_minor": 2
}
