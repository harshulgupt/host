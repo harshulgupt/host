{
 "cells": [
  {
   "cell_type": "code",
   "execution_count": 1,
   "metadata": {},
   "outputs": [],
   "source": [
    "\"\"\"import os \n",
    "key = os.environ.get('LAL')\n",
    "\n",
    "with open(\"output.txt\", \"w\") as f:\n",
    "    f.write(f\"Value of env variable key=: {key}\\n\")\"\"\"\n",
    "\n"
   ]
  },
  {
   "cell_type": "code",
   "execution_count": null,
   "metadata": {},
   "outputs": [],
   "source": [
    "import os\n",
    "import requests\n",
    "\n",
    "# retrieve token from environment variable\n",
    "token = os.getenv(\"LAL\")\n",
    "if not token:\n",
    "    raise Exception(\"Environment variable LAL not set\")\n",
    "\n",
    "# fetch data from private repository using GitHub API\n",
    "url = \"https://api.github.com/repos/harshulgupt/json_pvt/data.txt\"\n",
    "headers = {\n",
    "    \"Authorization\": \"Token \" + token\n",
    "}\n",
    "response = requests.get(url, headers=headers)\n",
    "if response.status_code == 200:\n",
    "    data = response.json()[\"content\"]\n",
    "    # write data to output.txt file\n",
    "    with open(\"output.txt\", \"w\") as f:\n",
    "        f.write(data)\n",
    "else:\n",
    "    print(f\"Error fetching data from private repository: {response.status_code} {response.text}\")\n"
   ]
  }
 ],
 "metadata": {
  "kernelspec": {
   "display_name": "Python 3",
   "language": "python",
   "name": "python3"
  },
  "language_info": {
   "codemirror_mode": {
    "name": "ipython",
    "version": 3
   },
   "file_extension": ".py",
   "mimetype": "text/x-python",
   "name": "python",
   "nbconvert_exporter": "python",
   "pygments_lexer": "ipython3",
   "version": "3.8.2"
  },
  "orig_nbformat": 4,
  "vscode": {
   "interpreter": {
    "hash": "31f2aee4e71d21fbe5cf8b01ff0e069b9275f58929596ceb00d14d90e3e16cd6"
   }
  }
 },
 "nbformat": 4,
 "nbformat_minor": 2
}
